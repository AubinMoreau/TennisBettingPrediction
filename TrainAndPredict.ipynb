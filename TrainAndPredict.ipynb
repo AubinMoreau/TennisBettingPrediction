{
 "cells": [
  {
   "cell_type": "code",
   "execution_count": 1,
   "metadata": {},
   "outputs": [
    {
     "name": "stderr",
     "output_type": "stream",
     "text": [
      "Using TensorFlow backend.\n"
     ]
    }
   ],
   "source": [
    "#/!\\ WARNING /!\\\n",
    "#You need data to train, so launch clearData.ipynb at least once\n",
    "\n",
    "import pandas as pd \n",
    "import numpy as np\n",
    "\n",
    "import random\n",
    "\n",
    "from keras.models import *\n",
    "from keras.layers import *\n",
    "\n",
    "\n",
    "\n",
    "fileClearedData = \"dataCleared.csv\"\n",
    "filePlayers = \"players.csv\"\n",
    "\n",
    "#Proportion of the dataset dedicated to the training\n",
    "trainSize = 9/10\n",
    "#Minimum accuracy of the NN on the evaluating data\n",
    "minAccuracyTraining = 0.705\n",
    "\n",
    "#Predict variables\n",
    "#Minimum probability of a player winning over an other to bet\n",
    "minproba = 0.65\n",
    "#Minimum amount of game of each player to bet\n",
    "minnbgames = 5\n",
    "#The earnings are used to link the probability of a player winning and the odds (the odds depending on the betting site)\n",
    "earnings = 1"
   ]
  },
  {
   "cell_type": "code",
   "execution_count": 2,
   "metadata": {},
   "outputs": [
    {
     "data": {
      "text/html": [
       "<div>\n",
       "<style scoped>\n",
       "    .dataframe tbody tr th:only-of-type {\n",
       "        vertical-align: middle;\n",
       "    }\n",
       "\n",
       "    .dataframe tbody tr th {\n",
       "        vertical-align: top;\n",
       "    }\n",
       "\n",
       "    .dataframe thead th {\n",
       "        text-align: right;\n",
       "    }\n",
       "</style>\n",
       "<table border=\"1\" class=\"dataframe\">\n",
       "  <thead>\n",
       "    <tr style=\"text-align: right;\">\n",
       "      <th></th>\n",
       "      <th>Winner</th>\n",
       "      <th>Loser</th>\n",
       "      <th>WRank</th>\n",
       "      <th>LRank</th>\n",
       "      <th>Winrate winner</th>\n",
       "      <th>Winrate loser</th>\n",
       "      <th>Nb Game winner</th>\n",
       "      <th>Nb Game loser</th>\n",
       "      <th>Result win</th>\n",
       "      <th>Result loose</th>\n",
       "    </tr>\n",
       "  </thead>\n",
       "  <tbody>\n",
       "    <tr>\n",
       "      <td>0</td>\n",
       "      <td>Bublik A.</td>\n",
       "      <td>Mannarino A.</td>\n",
       "      <td>0.018182</td>\n",
       "      <td>0.023256</td>\n",
       "      <td>0.529412</td>\n",
       "      <td>0.441860</td>\n",
       "      <td>51.0</td>\n",
       "      <td>43.0</td>\n",
       "      <td>1</td>\n",
       "      <td>0</td>\n",
       "    </tr>\n",
       "    <tr>\n",
       "      <td>1</td>\n",
       "      <td>Moutet C.</td>\n",
       "      <td>Sandgren T.</td>\n",
       "      <td>0.012346</td>\n",
       "      <td>0.014706</td>\n",
       "      <td>0.535714</td>\n",
       "      <td>0.370370</td>\n",
       "      <td>28.0</td>\n",
       "      <td>27.0</td>\n",
       "      <td>1</td>\n",
       "      <td>0</td>\n",
       "    </tr>\n",
       "    <tr>\n",
       "      <td>2</td>\n",
       "      <td>Verdasco F.</td>\n",
       "      <td>Andujar P.</td>\n",
       "      <td>0.020408</td>\n",
       "      <td>0.015625</td>\n",
       "      <td>0.428571</td>\n",
       "      <td>0.291667</td>\n",
       "      <td>14.0</td>\n",
       "      <td>24.0</td>\n",
       "      <td>1</td>\n",
       "      <td>0</td>\n",
       "    </tr>\n",
       "    <tr>\n",
       "      <td>3</td>\n",
       "      <td>Bedene A.</td>\n",
       "      <td>Ymer M.</td>\n",
       "      <td>0.017241</td>\n",
       "      <td>0.013158</td>\n",
       "      <td>0.500000</td>\n",
       "      <td>0.421053</td>\n",
       "      <td>36.0</td>\n",
       "      <td>19.0</td>\n",
       "      <td>1</td>\n",
       "      <td>0</td>\n",
       "    </tr>\n",
       "    <tr>\n",
       "      <td>4</td>\n",
       "      <td>Chardy J.</td>\n",
       "      <td>Barrere G.</td>\n",
       "      <td>0.018519</td>\n",
       "      <td>0.012048</td>\n",
       "      <td>0.538462</td>\n",
       "      <td>0.333333</td>\n",
       "      <td>26.0</td>\n",
       "      <td>15.0</td>\n",
       "      <td>1</td>\n",
       "      <td>0</td>\n",
       "    </tr>\n",
       "  </tbody>\n",
       "</table>\n",
       "</div>"
      ],
      "text/plain": [
       "        Winner         Loser     WRank     LRank  Winrate winner  \\\n",
       "0    Bublik A.  Mannarino A.  0.018182  0.023256        0.529412   \n",
       "1    Moutet C.   Sandgren T.  0.012346  0.014706        0.535714   \n",
       "2  Verdasco F.    Andujar P.  0.020408  0.015625        0.428571   \n",
       "3    Bedene A.       Ymer M.  0.017241  0.013158        0.500000   \n",
       "4    Chardy J.    Barrere G.  0.018519  0.012048        0.538462   \n",
       "\n",
       "   Winrate loser  Nb Game winner  Nb Game loser  Result win  Result loose  \n",
       "0       0.441860            51.0           43.0           1             0  \n",
       "1       0.370370            28.0           27.0           1             0  \n",
       "2       0.291667            14.0           24.0           1             0  \n",
       "3       0.421053            36.0           19.0           1             0  \n",
       "4       0.333333            26.0           15.0           1             0  "
      ]
     },
     "execution_count": 2,
     "metadata": {},
     "output_type": "execute_result"
    }
   ],
   "source": [
    "#Read the files\n",
    "clearedData = pd.read_csv(fileClearedData) \n",
    "players = pd.read_csv(filePlayers)\n",
    "dataM = clearedData.values\n",
    "\n",
    "clearedData.head()"
   ]
  },
  {
   "cell_type": "code",
   "execution_count": 3,
   "metadata": {},
   "outputs": [],
   "source": [
    "#Take the dataset and reverse each game (reverse the winner and the looser) to double the size of the dataset\n",
    "#It then split the data in training and testing data and finally randomise both\n",
    "def doubleGame(M,trainSize):\n",
    "    np.random.shuffle(M)\n",
    "    M2 =[]\n",
    "    for match in M:\n",
    "        reversematch = [match[1],match[0],match[3],match[2],match[5],match[4],match[7],match[6],match[9],match[8]]\n",
    "        \n",
    "        M2.append(match)\n",
    "        M2.append(reversematch)\n",
    "    Train = np.array(M2[:int(len(M2)*trainSize)])\n",
    "    Test = np.array(M2[int(len(M2)*trainSize):])\n",
    "    alldata = np.concatenate((Train, Test), axis=0)\n",
    "    np.random.shuffle(Train)\n",
    "    np.random.shuffle(Test)\n",
    "    \n",
    "    #TrainX = inputs, TrainY = outputs\n",
    "    TrainX = np.transpose(np.transpose(Train)[2:8])\n",
    "    TrainY = np.transpose(np.transpose(Train)[8:])\n",
    "\n",
    "    TestX = np.transpose(np.transpose(Test)[2:8])\n",
    "    TestY = np.transpose(np.transpose(Test)[8:])\n",
    "    return TrainX, TrainY, TestX, TestY, alldata"
   ]
  },
  {
   "cell_type": "code",
   "execution_count": 4,
   "metadata": {},
   "outputs": [
    {
     "name": "stdout",
     "output_type": "stream",
     "text": [
      "3612   402   4014\n"
     ]
    }
   ],
   "source": [
    "TrainX, TrainY, TestX, TestY, randM = doubleGame(dataM,trainSize)\n",
    "\n",
    "print(len(TrainX),\" \",len(TestX),\" \",len(randM))"
   ]
  },
  {
   "cell_type": "code",
   "execution_count": null,
   "metadata": {},
   "outputs": [],
   "source": []
  },
  {
   "cell_type": "code",
   "execution_count": null,
   "metadata": {},
   "outputs": [],
   "source": []
  },
  {
   "cell_type": "code",
   "execution_count": 5,
   "metadata": {},
   "outputs": [],
   "source": [
    "def createModel():\n",
    "    #I create the model of the Neural Network\n",
    "    visible = Input(shape=(6,))\n",
    "    hidden1 = Dense(250, activation='elu')(visible)\n",
    "    hidden2 = Dense(100, activation='relu')(hidden1)\n",
    "    hidden3 = Dropout(0.2) (hidden2)\n",
    "    hidden4 = Dense(50, activation='relu')(hidden3)\n",
    "    hidden5 = Dense(20, activation='relu')(hidden4)\n",
    "    output = Dense(2, activation='softmax')(hidden5)\n",
    "\n",
    "    model = Model(inputs=visible, outputs=output)\n",
    "\n",
    "    #I create the neural Network\n",
    "    model.compile(loss='binary_crossentropy', optimizer='Adagrad', metrics=['accuracy'])\n",
    "    return model\n",
    "\n",
    "def trainModel(TrainX,TrainY,model):\n",
    "    #I fit the model\n",
    "    model.fit(TrainX, TrainY, epochs=250, batch_size=10,verbose= 2)\n",
    "    return model\n",
    "\n",
    "def evaluateModel(TestX,TestY,model):\n",
    "    #I test on the testing dataset the model i just trained\n",
    "    score = model.evaluate(TestX, TestY, verbose=0)\n",
    "    return score"
   ]
  },
  {
   "cell_type": "code",
   "execution_count": 6,
   "metadata": {},
   "outputs": [
    {
     "name": "stdout",
     "output_type": "stream",
     "text": [
      "WARNING:tensorflow:From C:\\Users\\Megaport\\Anaconda3\\lib\\site-packages\\tensorflow_core\\python\\ops\\resource_variable_ops.py:1630: calling BaseResourceVariable.__init__ (from tensorflow.python.ops.resource_variable_ops) with constraint is deprecated and will be removed in a future version.\n",
      "Instructions for updating:\n",
      "If using Keras pass *_constraint arguments to layers.\n"
     ]
    }
   ],
   "source": [
    "model = createModel()"
   ]
  },
  {
   "cell_type": "code",
   "execution_count": 7,
   "metadata": {},
   "outputs": [
    {
     "name": "stdout",
     "output_type": "stream",
     "text": [
      "WARNING:tensorflow:From C:\\Users\\Megaport\\Anaconda3\\lib\\site-packages\\tensorflow_core\\python\\ops\\math_grad.py:1424: where (from tensorflow.python.ops.array_ops) is deprecated and will be removed in a future version.\n",
      "Instructions for updating:\n",
      "Use tf.where in 2.0, which has the same broadcast rule as np.where\n",
      "WARNING:tensorflow:From C:\\Users\\Megaport\\Anaconda3\\lib\\site-packages\\keras\\backend\\tensorflow_backend.py:422: The name tf.global_variables is deprecated. Please use tf.compat.v1.global_variables instead.\n",
      "\n",
      "Epoch 1/250\n",
      " - 0s - loss: 0.6775 - accuracy: 0.6027\n",
      "Epoch 250/250\n",
      " - 0s - loss: 0.5319 - accuracy: 0.7140\n"
     ]
    }
   ],
   "source": [
    "model = trainModel(TrainX,TrainY,model)"
   ]
  },
  {
   "cell_type": "code",
   "execution_count": 8,
   "metadata": {},
   "outputs": [
    {
     "name": "stdout",
     "output_type": "stream",
     "text": [
      "Test loss: 0.4976297047600817 / Test accuracy: 0.7238805890083313\n"
     ]
    }
   ],
   "source": [
    "score = evaluateModel(TestX,TestY,model)\n",
    "print(f'Test loss: {score[0]} / Test accuracy: {score[1]}')\n",
    "\n",
    "while score[1] < minAccuracyTraining:\n",
    "    model = createModel()\n",
    "    model = trainModel(TrainX,TrainY,model)\n",
    "    score = evaluateModel(TestX,TestY,model)\n",
    "    print(f'Test loss: {score[0]} / Test accuracy: {score[1]}')\n",
    "    "
   ]
  },
  {
   "cell_type": "code",
   "execution_count": 9,
   "metadata": {},
   "outputs": [],
   "source": [
    "class NotEnoughGame(Exception):\n",
    "    \"\"\"One of the player need to play more for the data to be usefull\"\"\"\n",
    "    pass\n",
    "\n",
    "def prediction(model,p1,p2,minproba,minnbgames,earnings):\n",
    "    \n",
    "    rankP1 = float(players.loc[players['Name'] == p1, \"Rank\"])\n",
    "    rankP2 = float(players.loc[players['Name'] == p2, \"Rank\"])\n",
    "    winrateP1 = float(players.loc[players['Name'] == p1, \"Winrate\"])\n",
    "    winrateP2 = float(players.loc[players['Name'] == p2, \"Winrate\"])\n",
    "    nbGameP1 = float(players.loc[players['Name'] == p1, \"NbGames\"])\n",
    "    nbGameP2 = float(players.loc[players['Name'] == p2, \"NbGames\"])\n",
    "    \n",
    "    if (nbGameP1 < minnbgames) or (nbGameP2 < minnbgames):\n",
    "        raise NotEnoughGame\n",
    "    \n",
    "    dataPredict = np.array([1/rankP1,1/rankP2,winrateP1,winrateP2,nbGameP1,nbGameP2])\n",
    "    \n",
    "    #print(dataPredict.shape)\n",
    "    \n",
    "    res = model.predict(np.array([dataPredict]))[0]\n",
    "    \n",
    "    print(p1,\"- rank\",rankP1,\"- winrate\",winrateP1,\"- nbGames\",nbGameP1)\n",
    "    print(p2,\"- rank\",rankP2,\"- winrate\",winrateP2,\"- nbGames\",nbGameP2)\n",
    "    print(\"Prediction :\",res)\n",
    "    if (res[0]>=minproba):\n",
    "        print(\"Bet on\",p1,\"if odds >\",earnings/res[0])\n",
    "    elif (res[1]>=minproba):\n",
    "        print(\"Bet on\",p2,\"if odds >\",earnings/res[1])\n",
    "    else:\n",
    "        print(\"Do not bet\")\n",
    "    return res"
   ]
  },
  {
   "cell_type": "code",
   "execution_count": 10,
   "metadata": {},
   "outputs": [
    {
     "name": "stdout",
     "output_type": "stream",
     "text": [
      "Goffin D. - rank 13.0 - winrate 0.5142857142857142 - nbGames 35.0\n",
      "Zverev A. - rank 7.0 - winrate 0.7708333333333334 - nbGames 48.0\n",
      "Prediction : [0.28577635 0.7142236 ]\n",
      "Bet on Zverev A. if odds > 1.4001217089593616\n"
     ]
    },
    {
     "data": {
      "text/plain": [
       "array([0.28577635, 0.7142236 ], dtype=float32)"
      ]
     },
     "execution_count": 10,
     "metadata": {},
     "output_type": "execute_result"
    }
   ],
   "source": [
    "#I predict between p1 and p2 which player i should bet (or not bet at all)\n",
    "#To get the name right, I copy it from the players.csv file\n",
    "\n",
    "p1 = 'Goffin D.'\n",
    "p2 = 'Zverev A.'\n",
    "\n",
    "prediction(model,p1,p2,minproba,minnbgames,earnings)"
   ]
  },
  {
   "cell_type": "code",
   "execution_count": null,
   "metadata": {},
   "outputs": [],
   "source": []
  },
  {
   "cell_type": "code",
   "execution_count": null,
   "metadata": {},
   "outputs": [],
   "source": []
  },
  {
   "cell_type": "code",
   "execution_count": null,
   "metadata": {},
   "outputs": [],
   "source": []
  },
  {
   "cell_type": "code",
   "execution_count": null,
   "metadata": {},
   "outputs": [],
   "source": []
  },
  {
   "cell_type": "code",
   "execution_count": null,
   "metadata": {},
   "outputs": [],
   "source": []
  },
  {
   "cell_type": "code",
   "execution_count": null,
   "metadata": {},
   "outputs": [],
   "source": []
  },
  {
   "cell_type": "code",
   "execution_count": null,
   "metadata": {},
   "outputs": [],
   "source": []
  },
  {
   "cell_type": "code",
   "execution_count": null,
   "metadata": {},
   "outputs": [],
   "source": []
  },
  {
   "cell_type": "code",
   "execution_count": null,
   "metadata": {},
   "outputs": [],
   "source": []
  },
  {
   "cell_type": "code",
   "execution_count": null,
   "metadata": {},
   "outputs": [],
   "source": []
  },
  {
   "cell_type": "code",
   "execution_count": null,
   "metadata": {},
   "outputs": [],
   "source": []
  },
  {
   "cell_type": "code",
   "execution_count": null,
   "metadata": {},
   "outputs": [],
   "source": []
  },
  {
   "cell_type": "code",
   "execution_count": null,
   "metadata": {},
   "outputs": [],
   "source": []
  }
 ],
 "metadata": {
  "kernelspec": {
   "display_name": "Python 3",
   "language": "python",
   "name": "python3"
  },
  "language_info": {
   "codemirror_mode": {
    "name": "ipython",
    "version": 3
   },
   "file_extension": ".py",
   "mimetype": "text/x-python",
   "name": "python",
   "nbconvert_exporter": "python",
   "pygments_lexer": "ipython3",
   "version": "3.7.4"
  }
 },
 "nbformat": 4,
 "nbformat_minor": 2
}
